{
 "cells": [
  {
   "cell_type": "markdown",
   "metadata": {},
   "source": [
    "# ETL Process "
   ]
  },
  {
   "cell_type": "code",
   "execution_count": 90,
   "metadata": {},
   "outputs": [],
   "source": [
    "#Importar Librerias\n",
    "import pandas as pd\n",
    "import re\n",
    "import numpy as np\n",
    "import os"
   ]
  },
  {
   "cell_type": "code",
   "execution_count": 91,
   "metadata": {},
   "outputs": [
    {
     "name": "stderr",
     "output_type": "stream",
     "text": [
      "/tmp/ipykernel_6128/4659526.py:2: DtypeWarning: Columns (10) have mixed types. Specify dtype option on import or set low_memory=False.\n",
      "  df_movies = pd.read_csv('dataset/movies.csv', encoding='utf-8')\n"
     ]
    }
   ],
   "source": [
    "#Carga CSV\n",
    "df_movies = pd.read_csv('dataset/movies.csv', encoding='utf-8')\n",
    "df_credits = pd.read_csv('dataset/credits.csv', encoding='utf-8')"
   ]
  },
  {
   "cell_type": "code",
   "execution_count": 92,
   "metadata": {},
   "outputs": [
    {
     "data": {
      "text/html": [
       "<div>\n",
       "<style scoped>\n",
       "    .dataframe tbody tr th:only-of-type {\n",
       "        vertical-align: middle;\n",
       "    }\n",
       "\n",
       "    .dataframe tbody tr th {\n",
       "        vertical-align: top;\n",
       "    }\n",
       "\n",
       "    .dataframe thead th {\n",
       "        text-align: right;\n",
       "    }\n",
       "</style>\n",
       "<table border=\"1\" class=\"dataframe\">\n",
       "  <thead>\n",
       "    <tr style=\"text-align: right;\">\n",
       "      <th></th>\n",
       "      <th>adult</th>\n",
       "      <th>belongs_to_collection</th>\n",
       "      <th>budget</th>\n",
       "      <th>genres</th>\n",
       "      <th>homepage</th>\n",
       "      <th>id</th>\n",
       "      <th>imdb_id</th>\n",
       "      <th>original_language</th>\n",
       "      <th>original_title</th>\n",
       "      <th>overview</th>\n",
       "      <th>...</th>\n",
       "      <th>release_date</th>\n",
       "      <th>revenue</th>\n",
       "      <th>runtime</th>\n",
       "      <th>spoken_languages</th>\n",
       "      <th>status</th>\n",
       "      <th>tagline</th>\n",
       "      <th>title</th>\n",
       "      <th>video</th>\n",
       "      <th>vote_average</th>\n",
       "      <th>vote_count</th>\n",
       "    </tr>\n",
       "  </thead>\n",
       "  <tbody>\n",
       "    <tr>\n",
       "      <th>0</th>\n",
       "      <td>False</td>\n",
       "      <td>{'id': 10194, 'name': 'Toy Story Collection', ...</td>\n",
       "      <td>30000000</td>\n",
       "      <td>[{'id': 16, 'name': 'Animation'}, {'id': 35, '...</td>\n",
       "      <td>http://toystory.disney.com/toy-story</td>\n",
       "      <td>862</td>\n",
       "      <td>tt0114709</td>\n",
       "      <td>en</td>\n",
       "      <td>Toy Story</td>\n",
       "      <td>Led by Woody, Andy's toys live happily in his ...</td>\n",
       "      <td>...</td>\n",
       "      <td>1995-10-30</td>\n",
       "      <td>373554033.0</td>\n",
       "      <td>81.0</td>\n",
       "      <td>[{'iso_639_1': 'en', 'name': 'English'}]</td>\n",
       "      <td>Released</td>\n",
       "      <td>NaN</td>\n",
       "      <td>Toy Story</td>\n",
       "      <td>False</td>\n",
       "      <td>7.7</td>\n",
       "      <td>5415.0</td>\n",
       "    </tr>\n",
       "    <tr>\n",
       "      <th>1</th>\n",
       "      <td>False</td>\n",
       "      <td>NaN</td>\n",
       "      <td>65000000</td>\n",
       "      <td>[{'id': 12, 'name': 'Adventure'}, {'id': 14, '...</td>\n",
       "      <td>NaN</td>\n",
       "      <td>8844</td>\n",
       "      <td>tt0113497</td>\n",
       "      <td>en</td>\n",
       "      <td>Jumanji</td>\n",
       "      <td>When siblings Judy and Peter discover an encha...</td>\n",
       "      <td>...</td>\n",
       "      <td>1995-12-15</td>\n",
       "      <td>262797249.0</td>\n",
       "      <td>104.0</td>\n",
       "      <td>[{'iso_639_1': 'en', 'name': 'English'}, {'iso...</td>\n",
       "      <td>Released</td>\n",
       "      <td>Roll the dice and unleash the excitement!</td>\n",
       "      <td>Jumanji</td>\n",
       "      <td>False</td>\n",
       "      <td>6.9</td>\n",
       "      <td>2413.0</td>\n",
       "    </tr>\n",
       "    <tr>\n",
       "      <th>2</th>\n",
       "      <td>False</td>\n",
       "      <td>{'id': 119050, 'name': 'Grumpy Old Men Collect...</td>\n",
       "      <td>0</td>\n",
       "      <td>[{'id': 10749, 'name': 'Romance'}, {'id': 35, ...</td>\n",
       "      <td>NaN</td>\n",
       "      <td>15602</td>\n",
       "      <td>tt0113228</td>\n",
       "      <td>en</td>\n",
       "      <td>Grumpier Old Men</td>\n",
       "      <td>A family wedding reignites the ancient feud be...</td>\n",
       "      <td>...</td>\n",
       "      <td>1995-12-22</td>\n",
       "      <td>0.0</td>\n",
       "      <td>101.0</td>\n",
       "      <td>[{'iso_639_1': 'en', 'name': 'English'}]</td>\n",
       "      <td>Released</td>\n",
       "      <td>Still Yelling. Still Fighting. Still Ready for...</td>\n",
       "      <td>Grumpier Old Men</td>\n",
       "      <td>False</td>\n",
       "      <td>6.5</td>\n",
       "      <td>92.0</td>\n",
       "    </tr>\n",
       "    <tr>\n",
       "      <th>3</th>\n",
       "      <td>False</td>\n",
       "      <td>NaN</td>\n",
       "      <td>16000000</td>\n",
       "      <td>[{'id': 35, 'name': 'Comedy'}, {'id': 18, 'nam...</td>\n",
       "      <td>NaN</td>\n",
       "      <td>31357</td>\n",
       "      <td>tt0114885</td>\n",
       "      <td>en</td>\n",
       "      <td>Waiting to Exhale</td>\n",
       "      <td>Cheated on, mistreated and stepped on, the wom...</td>\n",
       "      <td>...</td>\n",
       "      <td>1995-12-22</td>\n",
       "      <td>81452156.0</td>\n",
       "      <td>127.0</td>\n",
       "      <td>[{'iso_639_1': 'en', 'name': 'English'}]</td>\n",
       "      <td>Released</td>\n",
       "      <td>Friends are the people who let you be yourself...</td>\n",
       "      <td>Waiting to Exhale</td>\n",
       "      <td>False</td>\n",
       "      <td>6.1</td>\n",
       "      <td>34.0</td>\n",
       "    </tr>\n",
       "    <tr>\n",
       "      <th>4</th>\n",
       "      <td>False</td>\n",
       "      <td>{'id': 96871, 'name': 'Father of the Bride Col...</td>\n",
       "      <td>0</td>\n",
       "      <td>[{'id': 35, 'name': 'Comedy'}]</td>\n",
       "      <td>NaN</td>\n",
       "      <td>11862</td>\n",
       "      <td>tt0113041</td>\n",
       "      <td>en</td>\n",
       "      <td>Father of the Bride Part II</td>\n",
       "      <td>Just when George Banks has recovered from his ...</td>\n",
       "      <td>...</td>\n",
       "      <td>1995-02-10</td>\n",
       "      <td>76578911.0</td>\n",
       "      <td>106.0</td>\n",
       "      <td>[{'iso_639_1': 'en', 'name': 'English'}]</td>\n",
       "      <td>Released</td>\n",
       "      <td>Just When His World Is Back To Normal... He's ...</td>\n",
       "      <td>Father of the Bride Part II</td>\n",
       "      <td>False</td>\n",
       "      <td>5.7</td>\n",
       "      <td>173.0</td>\n",
       "    </tr>\n",
       "  </tbody>\n",
       "</table>\n",
       "<p>5 rows × 24 columns</p>\n",
       "</div>"
      ],
      "text/plain": [
       "   adult                              belongs_to_collection    budget  \\\n",
       "0  False  {'id': 10194, 'name': 'Toy Story Collection', ...  30000000   \n",
       "1  False                                                NaN  65000000   \n",
       "2  False  {'id': 119050, 'name': 'Grumpy Old Men Collect...         0   \n",
       "3  False                                                NaN  16000000   \n",
       "4  False  {'id': 96871, 'name': 'Father of the Bride Col...         0   \n",
       "\n",
       "                                              genres  \\\n",
       "0  [{'id': 16, 'name': 'Animation'}, {'id': 35, '...   \n",
       "1  [{'id': 12, 'name': 'Adventure'}, {'id': 14, '...   \n",
       "2  [{'id': 10749, 'name': 'Romance'}, {'id': 35, ...   \n",
       "3  [{'id': 35, 'name': 'Comedy'}, {'id': 18, 'nam...   \n",
       "4                     [{'id': 35, 'name': 'Comedy'}]   \n",
       "\n",
       "                               homepage     id    imdb_id original_language  \\\n",
       "0  http://toystory.disney.com/toy-story    862  tt0114709                en   \n",
       "1                                   NaN   8844  tt0113497                en   \n",
       "2                                   NaN  15602  tt0113228                en   \n",
       "3                                   NaN  31357  tt0114885                en   \n",
       "4                                   NaN  11862  tt0113041                en   \n",
       "\n",
       "                original_title  \\\n",
       "0                    Toy Story   \n",
       "1                      Jumanji   \n",
       "2             Grumpier Old Men   \n",
       "3            Waiting to Exhale   \n",
       "4  Father of the Bride Part II   \n",
       "\n",
       "                                            overview  ... release_date  \\\n",
       "0  Led by Woody, Andy's toys live happily in his ...  ...   1995-10-30   \n",
       "1  When siblings Judy and Peter discover an encha...  ...   1995-12-15   \n",
       "2  A family wedding reignites the ancient feud be...  ...   1995-12-22   \n",
       "3  Cheated on, mistreated and stepped on, the wom...  ...   1995-12-22   \n",
       "4  Just when George Banks has recovered from his ...  ...   1995-02-10   \n",
       "\n",
       "       revenue runtime                                   spoken_languages  \\\n",
       "0  373554033.0    81.0           [{'iso_639_1': 'en', 'name': 'English'}]   \n",
       "1  262797249.0   104.0  [{'iso_639_1': 'en', 'name': 'English'}, {'iso...   \n",
       "2          0.0   101.0           [{'iso_639_1': 'en', 'name': 'English'}]   \n",
       "3   81452156.0   127.0           [{'iso_639_1': 'en', 'name': 'English'}]   \n",
       "4   76578911.0   106.0           [{'iso_639_1': 'en', 'name': 'English'}]   \n",
       "\n",
       "     status                                            tagline  \\\n",
       "0  Released                                                NaN   \n",
       "1  Released          Roll the dice and unleash the excitement!   \n",
       "2  Released  Still Yelling. Still Fighting. Still Ready for...   \n",
       "3  Released  Friends are the people who let you be yourself...   \n",
       "4  Released  Just When His World Is Back To Normal... He's ...   \n",
       "\n",
       "                         title  video vote_average vote_count  \n",
       "0                    Toy Story  False          7.7     5415.0  \n",
       "1                      Jumanji  False          6.9     2413.0  \n",
       "2             Grumpier Old Men  False          6.5       92.0  \n",
       "3            Waiting to Exhale  False          6.1       34.0  \n",
       "4  Father of the Bride Part II  False          5.7      173.0  \n",
       "\n",
       "[5 rows x 24 columns]"
      ]
     },
     "execution_count": 92,
     "metadata": {},
     "output_type": "execute_result"
    }
   ],
   "source": [
    "df_movies.head()"
   ]
  },
  {
   "cell_type": "markdown",
   "metadata": {},
   "source": [
    "## Transformaciones"
   ]
  },
  {
   "cell_type": "markdown",
   "metadata": {},
   "source": [
    "### Desanidar y eliminar campos compuestos "
   ]
  },
  {
   "cell_type": "code",
   "execution_count": 93,
   "metadata": {},
   "outputs": [],
   "source": [
    "#Funcion para extraer el valor de la clave 'name'\n",
    "def extract_values(value):\n",
    "    if isinstance(value, str):\n",
    "        values = re.findall(r\"'name': '(.*?)'\", value)\n",
    "        return ', '.join(values)\n",
    "    else:\n",
    "        return ''\n",
    "\n",
    "#Crear de nuevos campos o modificar de campos existentes     \n",
    "df_movies['collection'] = df_movies['belongs_to_collection'].apply(extract_values)\n",
    "df_movies['genres'] = df_movies['genres'].apply(extract_values)\n",
    "df_movies['companies'] = df_movies['production_companies'].apply(extract_values)\n",
    "df_movies['country'] = df_movies['production_countries'].apply(extract_values)\n",
    "df_movies['language'] = df_movies['spoken_languages'].apply(extract_values)\n",
    "\n",
    "#Eliminacion de campos compuestos no modificados\n",
    "df_movies = df_movies.drop(columns=['belongs_to_collection','production_companies',\n",
    "                                    'production_countries','spoken_languages'])\n",
    "\n",
    "#Eliminacion de campos innecesarios\n",
    "df_movies = df_movies.drop(columns=['adult','homepage','imdb_id','original_title',\n",
    "                                    'poster_path','video'])"
   ]
  },
  {
   "cell_type": "markdown",
   "metadata": {},
   "source": [
    "### Creacion de campo con el retorno de inversion"
   ]
  },
  {
   "cell_type": "code",
   "execution_count": 94,
   "metadata": {},
   "outputs": [],
   "source": [
    "#Convertir valores nulos del campo revenue a 0\n",
    "df_movies['revenue'] = df_movies['revenue'].fillna(0)\n",
    "\n",
    "#Convertir los valores del campo budget a Float64\n",
    "df_movies['budget'] = pd.to_numeric(df_movies['budget'], errors='coerce')\n",
    "#Convertir valores nulos del campos budget a 0\n",
    "df_movies['budget'] = df_movies['budget'].fillna(0)\n",
    "\n",
    "#Creacion del campo return si los campos no son 0\n",
    "df_movies['return'] = np.where((df_movies['revenue'] == 0) | (df_movies['budget'] == 0), 0,\n",
    "                                df_movies['revenue'] / df_movies['budget'])"
   ]
  },
  {
   "cell_type": "markdown",
   "metadata": {},
   "source": [
    "### Creacion de campo year y elminacion de filas con valores nulos del campo release_date "
   ]
  },
  {
   "cell_type": "code",
   "execution_count": 95,
   "metadata": {},
   "outputs": [],
   "source": [
    "#Convertir campo release_date a datetime \n",
    "df_movies['release_date'] = pd.to_datetime(df_movies['release_date'], format='%Y-%m-%d', errors='coerce')\n",
    "# Elimnacion de filas con valores nulos en en campo datetime\n",
    "df_movies = df_movies.dropna(subset=['release_date'])\n",
    "\n",
    "#Crear campo year\n",
    "df_movies['year'] = df_movies['release_date'].dt.year"
   ]
  },
  {
   "cell_type": "code",
   "execution_count": 96,
   "metadata": {},
   "outputs": [
    {
     "name": "stdout",
     "output_type": "stream",
     "text": [
      "<class 'pandas.core.frame.DataFrame'>\n",
      "Index: 45376 entries, 0 to 45465\n",
      "Data columns (total 20 columns):\n",
      " #   Column             Non-Null Count  Dtype         \n",
      "---  ------             --------------  -----         \n",
      " 0   budget             45376 non-null  float64       \n",
      " 1   genres             45376 non-null  object        \n",
      " 2   id                 45376 non-null  object        \n",
      " 3   original_language  45365 non-null  object        \n",
      " 4   overview           44435 non-null  object        \n",
      " 5   popularity         45376 non-null  object        \n",
      " 6   release_date       45376 non-null  datetime64[ns]\n",
      " 7   revenue            45376 non-null  float64       \n",
      " 8   runtime            45130 non-null  float64       \n",
      " 9   status             45296 non-null  object        \n",
      " 10  tagline            20398 non-null  object        \n",
      " 11  title              45376 non-null  object        \n",
      " 12  vote_average       45376 non-null  float64       \n",
      " 13  vote_count         45376 non-null  float64       \n",
      " 14  collection         45376 non-null  object        \n",
      " 15  companies          45376 non-null  object        \n",
      " 16  country            45376 non-null  object        \n",
      " 17  language           45376 non-null  object        \n",
      " 18  return             45376 non-null  float64       \n",
      " 19  year               45376 non-null  int32         \n",
      "dtypes: datetime64[ns](1), float64(6), int32(1), object(12)\n",
      "memory usage: 7.1+ MB\n"
     ]
    }
   ],
   "source": [
    "df_movies.info()"
   ]
  },
  {
   "cell_type": "markdown",
   "metadata": {},
   "source": [
    "## Funciones"
   ]
  },
  {
   "cell_type": "markdown",
   "metadata": {},
   "source": [
    "### def peliculas_idioma(idioma)\n",
    "- Se ingresa un idioma (literal) y se retorna la cantidad de peliculas en ese idioma."
   ]
  },
  {
   "cell_type": "code",
   "execution_count": 97,
   "metadata": {},
   "outputs": [],
   "source": [
    "#Convertir campo original_language a string minuscula\n",
    "df_movies['original_language'] = df_movies['original_language'].astype(str).str.lower()"
   ]
  },
  {
   "cell_type": "code",
   "execution_count": 98,
   "metadata": {},
   "outputs": [],
   "source": [
    "#Funcion ingreso de idioma y retorno la cantidad de peliculas\n",
    "def peliculas_idioma(idioma):\n",
    "    idioma = idioma.lower()\n",
    "    if idioma in df_movies['original_language'].values:\n",
    "        df_peliculas_filtradas = df_movies[df_movies['original_language'] == idioma]\n",
    "        cantidad_peliculas = len(df_peliculas_filtradas)\n",
    "        return {'idioma': idioma, 'cantidad':cantidad_peliculas}\n",
    "    else:\n",
    "        return 'valor invalido'"
   ]
  },
  {
   "cell_type": "code",
   "execution_count": 99,
   "metadata": {},
   "outputs": [
    {
     "data": {
      "text/plain": [
       "{'idioma': 'en', 'cantidad': 32202}"
      ]
     },
     "execution_count": 99,
     "metadata": {},
     "output_type": "execute_result"
    }
   ],
   "source": [
    "peliculas_idioma('en')"
   ]
  },
  {
   "cell_type": "markdown",
   "metadata": {},
   "source": [
    "### def peliculas_duracion(titulo)\n",
    "- Se ingresa una pelicula y retorna la duracion y el anio de estreno."
   ]
  },
  {
   "cell_type": "code",
   "execution_count": 100,
   "metadata": {},
   "outputs": [],
   "source": [
    "#Convertir campo title a string minuscula\n",
    "df_movies['title'] = df_movies['title'].astype(str).str.lower()"
   ]
  },
  {
   "cell_type": "code",
   "execution_count": 101,
   "metadata": {},
   "outputs": [],
   "source": [
    "#Funcion ingreso de titulo y retorno de duracion y anio de la misma\n",
    "def peliculas_duracion(titulo):\n",
    "    titulo = titulo.lower()\n",
    "    if titulo in df_movies['title'].values:\n",
    "        df_pelicula = df_movies[df_movies['title'] == titulo]\n",
    "        runtime = df_pelicula['runtime'].values[0]\n",
    "        year = df_pelicula['year'].values[0]\n",
    "        return {'titulo': titulo,'duracion':runtime,'anio': year}\n",
    "    else:\n",
    "        return 'valor invalido'"
   ]
  },
  {
   "cell_type": "code",
   "execution_count": 102,
   "metadata": {},
   "outputs": [
    {
     "data": {
      "text/plain": [
       "{'titulo': 'happy burnout', 'duracion': nan, 'anio': 2017}"
      ]
     },
     "execution_count": 102,
     "metadata": {},
     "output_type": "execute_result"
    }
   ],
   "source": [
    "peliculas_duracion('happy burnout')"
   ]
  },
  {
   "cell_type": "markdown",
   "metadata": {},
   "source": [
    "### def franquicia(franquicia)\n",
    "- Se ingresa la franquicia y retorna la cantidad de peliculas, ganancia total y ganancia promedio."
   ]
  },
  {
   "cell_type": "code",
   "execution_count": 103,
   "metadata": {},
   "outputs": [],
   "source": [
    "#Convertir campo collection a string minuscula\n",
    "df_movies['collection'] = df_movies['collection'].str.lower()"
   ]
  },
  {
   "cell_type": "code",
   "execution_count": 104,
   "metadata": {},
   "outputs": [],
   "source": [
    "#Funcion ingreso de franquicia y retorno de ganancia total y promedio\n",
    "def franquicia(franquicia):\n",
    "    franquicia = franquicia.lower()\n",
    "    ganancia_total = 0\n",
    "    if franquicia in df_movies['collection'].values:\n",
    "        df_franquicia = df_movies[df_movies['collection'] == franquicia]\n",
    "        ganancias = df_franquicia['revenue'].values[:]\n",
    "        for ganancia in ganancias:\n",
    "            ganancia_total += ganancia\n",
    "        return {'franquicia': franquicia,'ganancia total':ganancia_total,'ganancia promedio': ganancia_total / len(ganancias)}\n",
    "    else:\n",
    "        return 'valor invalido'"
   ]
  },
  {
   "cell_type": "code",
   "execution_count": 105,
   "metadata": {},
   "outputs": [
    {
     "data": {
      "text/plain": [
       "{'franquicia': 'toy story collection',\n",
       " 'ganancia total': 1937890605.0,\n",
       " 'ganancia promedio': 645963535.0}"
      ]
     },
     "execution_count": 105,
     "metadata": {},
     "output_type": "execute_result"
    }
   ],
   "source": [
    "franquicia('toy story collection')"
   ]
  },
  {
   "cell_type": "markdown",
   "metadata": {},
   "source": [
    "### def peliculas_pais(pais)\n",
    "- Se ingresa un pais y retorna la cantidad de peliculas por pais."
   ]
  },
  {
   "cell_type": "code",
   "execution_count": 106,
   "metadata": {},
   "outputs": [],
   "source": [
    "#Convertir campo country a string minusculas\n",
    "df_movies['country'] = df_movies['country'].str.lower()"
   ]
  },
  {
   "cell_type": "code",
   "execution_count": 107,
   "metadata": {},
   "outputs": [],
   "source": [
    "#Funcion ingreso de pais y retorno de cantidad de peliculas por pais\n",
    "def peliculas_pais(pais):\n",
    "    pais = pais.lower()\n",
    "    if pais in df_movies['country'].values:\n",
    "        df_pais = df_movies[df_movies['country'] == pais]\n",
    "        return {'pais': pais,'cantidad de peliculas':len(df_pais)}\n",
    "    else:\n",
    "        return 'valor invalido'"
   ]
  },
  {
   "cell_type": "code",
   "execution_count": 108,
   "metadata": {},
   "outputs": [
    {
     "data": {
      "text/plain": [
       "{'pais': 'united states of america', 'cantidad de peliculas': 17846}"
      ]
     },
     "execution_count": 108,
     "metadata": {},
     "output_type": "execute_result"
    }
   ],
   "source": [
    "peliculas_pais('United StATes oF america')"
   ]
  },
  {
   "cell_type": "markdown",
   "metadata": {},
   "source": [
    "### def productoras_exitosas(productora)\n",
    "- Se ingresa la productora y retorna el revenue total y la cantidad de peliculas que realizo"
   ]
  },
  {
   "cell_type": "code",
   "execution_count": 109,
   "metadata": {},
   "outputs": [],
   "source": [
    "#Convertir campo companies a string minusculas\n",
    "df_movies['companies'] = df_movies['companies'].str.lower()"
   ]
  },
  {
   "cell_type": "code",
   "execution_count": 110,
   "metadata": {},
   "outputs": [],
   "source": [
    "#Funcion ingreso de productora y retorno de cantidad de peliculas y ganancia total de la productora\n",
    "def productoras_exitosas(productora):\n",
    "    productora = productora.lower()\n",
    "    ganancia_total = 0\n",
    "    df_productoras = df_movies[df_movies['companies'].str.contains(productora)]\n",
    "    if len(df_productoras) != 0:\n",
    "        ganancias = df_productoras['revenue'].values[:]\n",
    "        for ganancia in ganancias:\n",
    "            ganancia_total += ganancia\n",
    "        return {'productora':productora,'cantidad de peliculas':len(df_productoras),'ganancia total':ganancia_total}\n",
    "    else:\n",
    "        return 'valor invalido'"
   ]
  },
  {
   "cell_type": "code",
   "execution_count": 111,
   "metadata": {},
   "outputs": [
    {
     "data": {
      "text/plain": [
       "{'productora': 'tristar pictures',\n",
       " 'cantidad de peliculas': 197,\n",
       " 'ganancia total': 8022366764.0}"
      ]
     },
     "execution_count": 111,
     "metadata": {},
     "output_type": "execute_result"
    }
   ],
   "source": [
    "productoras_exitosas('Tristar Pictures')"
   ]
  },
  {
   "cell_type": "markdown",
   "metadata": {},
   "source": [
    "### def get_director(director)\n",
    "- Se ingresa en director y retorna el nombre de la pelicula, la fecha de lanzamiento, retorno individual, costo y ganancia."
   ]
  },
  {
   "cell_type": "code",
   "execution_count": 112,
   "metadata": {},
   "outputs": [],
   "source": [
    "#Funcion para extraer los valores de la clave 'name'\n",
    "def extract_values(value):\n",
    "    if isinstance(value, str):\n",
    "        values = re.findall(r\"'Director', 'name': '(.*?)'\", value)\n",
    "        return ', '.join(values)\n",
    "    else:\n",
    "        return ''\n",
    "\n",
    "#Desanidar campo crew del dataset credit    \n",
    "df_credits['director'] = df_credits['crew'].apply(extract_values)\n",
    "\n",
    "#Eliminar campos innecesarios\n",
    "df_credits = df_credits.drop(columns=['cast', 'crew'])\n"
   ]
  },
  {
   "cell_type": "code",
   "execution_count": 113,
   "metadata": {},
   "outputs": [],
   "source": [
    "#Convertir los valores id a int para realizar un merge\n",
    "df_movies['id'] = pd.to_numeric(df_movies['id'], errors='coerce').fillna(0)\n",
    "df_movies['id'] = df_movies['id'].astype('int64')\n",
    "\n",
    "#Merge entre datasets movies y credit \n",
    "df_movies = pd.merge(df_movies, df_credits, on='id', how='inner')"
   ]
  },
  {
   "cell_type": "code",
   "execution_count": 114,
   "metadata": {},
   "outputs": [],
   "source": [
    "#Convertir campo country a string minusculas\n",
    "df_movies['director'] = df_movies['director'].str.lower()"
   ]
  },
  {
   "cell_type": "code",
   "execution_count": 115,
   "metadata": {},
   "outputs": [],
   "source": [
    "#Funcion para agregar un prefijo a cada array \n",
    "def agregar_prefijo(array, prefijo):\n",
    "    array_nuevo = []\n",
    "    for elemento in array:\n",
    "        nuevo_elemento = f'{prefijo}:{elemento}'\n",
    "        array_nuevo.append(nuevo_elemento)\n",
    "    return np.array(array_nuevo)\n",
    "\n",
    "# Funcion ingreso de director y retorno de titulo, fecha, retorno de inversion, costo y ganancia de cada pelicula\n",
    "def get_director(director):\n",
    "    director = director.lower()\n",
    "    df_peliculas = df_movies[df_movies['director'] == director]\n",
    "    if len(df_peliculas) != 0:\n",
    "        titulo = df_peliculas['title'].values[:]\n",
    "        titulo = agregar_prefijo(titulo, 'titulo')\n",
    "        fecha64 = df_peliculas['release_date'].values[:]\n",
    "        fecha = np.datetime_as_string(fecha64, unit='D')\n",
    "        fecha = agregar_prefijo(fecha, 'fecha de lanzamiento')\n",
    "        retorno = df_peliculas['return'].values[:]\n",
    "        retorno = agregar_prefijo(retorno, 'retorno')\n",
    "        costo = df_peliculas['budget'].values[:]\n",
    "        costo = agregar_prefijo(costo, 'costo:')  \n",
    "        ganancia = df_peliculas['revenue'].values[:]\n",
    "        ganancia = agregar_prefijo(ganancia, 'ganancia')   \n",
    "\n",
    "        lista = list(zip(titulo, fecha, retorno, costo, ganancia))  \n",
    "        return f'director:{director}', lista"
   ]
  },
  {
   "cell_type": "code",
   "execution_count": 116,
   "metadata": {},
   "outputs": [
    {
     "data": {
      "text/plain": [
       "('director:charles shyer',\n",
       " [('titulo:father of the bride part ii',\n",
       "   'fecha de lanzamiento:1995-02-10',\n",
       "   'retorno:0.0',\n",
       "   'costo::0.0',\n",
       "   'ganancia:76578911.0'),\n",
       "  ('titulo:i love trouble',\n",
       "   'fecha de lanzamiento:1994-06-29',\n",
       "   'retorno:1.3766059333333334',\n",
       "   'costo::45000000.0',\n",
       "   'ganancia:61947267.0'),\n",
       "  ('titulo:baby boom',\n",
       "   'fecha de lanzamiento:1987-09-17',\n",
       "   'retorno:0.0',\n",
       "   'costo::0.0',\n",
       "   'ganancia:0.0'),\n",
       "  ('titulo:the affair of the necklace',\n",
       "   'fecha de lanzamiento:2001-11-20',\n",
       "   'retorno:0.0',\n",
       "   'costo::0.0',\n",
       "   'ganancia:0.0'),\n",
       "  ('titulo:father of the bride',\n",
       "   'fecha de lanzamiento:1991-12-20',\n",
       "   'retorno:0.0',\n",
       "   'costo::0.0',\n",
       "   'ganancia:89325780.0'),\n",
       "  ('titulo:alfie',\n",
       "   'fecha de lanzamiento:2004-10-22',\n",
       "   'retorno:0.22326565',\n",
       "   'costo::60000000.0',\n",
       "   'ganancia:13395939.0'),\n",
       "  ('titulo:irreconcilable differences',\n",
       "   'fecha de lanzamiento:1984-09-28',\n",
       "   'retorno:0.0',\n",
       "   'costo::0.0',\n",
       "   'ganancia:12384120.0')])"
      ]
     },
     "execution_count": 116,
     "metadata": {},
     "output_type": "execute_result"
    }
   ],
   "source": [
    "get_director('charles shyer')"
   ]
  },
  {
   "cell_type": "markdown",
   "metadata": {},
   "source": [
    "# Creacion de dataframe con los campos modificados  "
   ]
  },
  {
   "cell_type": "code",
   "execution_count": 117,
   "metadata": {},
   "outputs": [
    {
     "name": "stdout",
     "output_type": "stream",
     "text": [
      "Archivo existente\n"
     ]
    }
   ],
   "source": [
    "if not os.path.isfile('movies_etl.csv'):\n",
    "    df_movies.to_csv('movies_etl.csv', index=False)\n",
    "    print('Archivo movies_etl.csv creado')\n",
    "else:\n",
    "    print('Archivo existente')"
   ]
  },
  {
   "cell_type": "code",
   "execution_count": 118,
   "metadata": {},
   "outputs": [],
   "source": [
    "#Codigo alternativos\n",
    "#df.isna().sum()\n",
    "\n",
    "#count_type = df['column'].apply(type).value_counts()\n",
    "#for tipo, cantidad in count_type.items():\n",
    "#    print(tipo, cantidad)\n",
    "\n",
    "#data_type = type(df.iloc[row, column])\n",
    "#print(data_type)"
   ]
  }
 ],
 "metadata": {
  "kernelspec": {
   "display_name": "Python 3",
   "language": "python",
   "name": "python3"
  },
  "language_info": {
   "codemirror_mode": {
    "name": "ipython",
    "version": 3
   },
   "file_extension": ".py",
   "mimetype": "text/x-python",
   "name": "python",
   "nbconvert_exporter": "python",
   "pygments_lexer": "ipython3",
   "version": "3.10.6"
  },
  "orig_nbformat": 4
 },
 "nbformat": 4,
 "nbformat_minor": 2
}
